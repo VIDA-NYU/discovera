{
 "cells": [
  {
   "cell_type": "code",
   "execution_count": 1,
   "id": "ea41d5bc-7617-4e1f-b1e6-763a11c37e8f",
   "metadata": {},
   "outputs": [],
   "source": [
    "import os\n",
    "import sys\n",
    "import pandas as pd\n",
    "from tqdm import tqdm"
   ]
  },
  {
   "cell_type": "code",
   "execution_count": 2,
   "id": "0f97f7dc-e8d7-4982-bac6-9b33611d3607",
   "metadata": {},
   "outputs": [],
   "source": [
    "sys.path.append(os.path.abspath('../src'))\n",
    "from bkd_context.bkd.query_indra import bulk_edges"
   ]
  },
  {
   "cell_type": "code",
   "execution_count": 3,
   "id": "22670739-3d91-4ba9-aa77-8ce06cff8e88",
   "metadata": {},
   "outputs": [
    {
     "ename": "NameError",
     "evalue": "name 'genes' is not defined",
     "output_type": "error",
     "traceback": [
      "\u001b[0;31m---------------------------------------------------------------------------\u001b[0m",
      "\u001b[0;31mNameError\u001b[0m                                 Traceback (most recent call last)",
      "Cell \u001b[0;32mIn[3], line 1\u001b[0m\n\u001b[0;32m----> 1\u001b[0m \u001b[43mgenes\u001b[49m\n",
      "\u001b[0;31mNameError\u001b[0m: name 'genes' is not defined"
     ]
    }
   ],
   "source": [
    "genes"
   ]
  },
  {
   "cell_type": "code",
   "execution_count": null,
   "id": "aad6fb6b-9bb7-4eb3-94d8-4007b91adb87",
   "metadata": {},
   "outputs": [],
   "source": [
    "from itertools import combinations\n",
    "genes = [\"NOTUM\", \"VWA2\", \"CTNNB1\", \"VPS26C\"]\n",
    "genes = list(combinations(genes, 2))\n",
    "edges = bulk_edges(genes)"
   ]
  },
  {
   "cell_type": "code",
   "execution_count": null,
   "id": "82cf6f7f-87c5-4e1a-acd4-ad4cf2992648",
   "metadata": {},
   "outputs": [],
   "source": [
    "edges"
   ]
  },
  {
   "cell_type": "code",
   "execution_count": null,
   "id": "f87413bf-28db-443d-91f7-697fe54640af",
   "metadata": {},
   "outputs": [],
   "source": [
    "# Now you can group by the 'nodes' column\n",
    "result = edges.groupby([\"nodes\", \"type\", \"subj.name\", \"obj.name\"]).size().reset_index(name=\"count\")\n",
    "result"
   ]
  },
  {
   "cell_type": "code",
   "execution_count": null,
   "id": "d6fa5dd2-4313-4c0e-81eb-e8590537e2af",
   "metadata": {},
   "outputs": [],
   "source": [
    "result[[\"type\", \"subj.name\", \"obj.name\", \"count\"]]"
   ]
  },
  {
   "cell_type": "code",
   "execution_count": null,
   "id": "d2a5f807-b865-4d04-9dac-98860f358031",
   "metadata": {},
   "outputs": [],
   "source": []
  }
 ],
 "metadata": {
  "kernelspec": {
   "display_name": "discovera",
   "language": "python",
   "name": "discovera"
  },
  "language_info": {
   "codemirror_mode": {
    "name": "ipython",
    "version": 3
   },
   "file_extension": ".py",
   "mimetype": "text/x-python",
   "name": "python",
   "nbconvert_exporter": "python",
   "pygments_lexer": "ipython3",
   "version": "3.13.0"
  }
 },
 "nbformat": 4,
 "nbformat_minor": 5
}
