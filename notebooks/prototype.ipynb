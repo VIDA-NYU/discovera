{
 "cells": [
  {
   "cell_type": "code",
   "execution_count": 1,
   "id": "ea41d5bc-7617-4e1f-b1e6-763a11c37e8f",
   "metadata": {},
   "outputs": [],
   "source": [
    "import os\n",
    "import sys\n",
    "import pandas as pd\n",
    "from tqdm import tqdm"
   ]
  },
  {
   "cell_type": "code",
   "execution_count": 2,
   "id": "0f97f7dc-e8d7-4982-bac6-9b33611d3607",
   "metadata": {},
   "outputs": [],
   "source": [
    "sys.path.append(os.path.abspath('../src'))\n",
    "from bkd_context.bkd.query_indra import bulk_edges\n",
    "from bkd_context.bkd.processing import group_edges"
   ]
  },
  {
   "cell_type": "code",
   "execution_count": 3,
   "id": "ab61b167-713d-4803-9d1d-bcf36ab137e0",
   "metadata": {},
   "outputs": [
    {
     "name": "stderr",
     "output_type": "stream",
     "text": [
      "INFO: [2025-02-27 16:39:36] indra_db_rest.query_processor - Retrieving statements that have an agent where NAME=VPS26C.                                      | 0/2 [00:00<?, ?it/s]\n",
      "INFO: [2025-02-27 16:39:36] indra_db_rest.query_processor - Retrieving statements that have an agent where NAME=VWA2.\n",
      "INFO: [2025-02-27 16:39:36] indra_db_rest.request_logs - Running 0th request for statements\n",
      "INFO: [2025-02-27 16:39:36] indra_db_rest.request_logs -   LIMIT: None\n",
      "INFO: [2025-02-27 16:39:36] indra_db_rest.request_logs - Running 0th request for statements\n",
      "INFO: [2025-02-27 16:39:36] indra_db_rest.request_logs -   LIMIT: None\n",
      "INFO: [2025-02-27 16:39:36] indra_db_rest.request_logs -   OFFSET: 0\n",
      "INFO: [2025-02-27 16:39:36] indra_db_rest.request_logs -   OFFSET: 0\n",
      "Processing nodes: 100%|██████████████████████████████████████████████████████████████████████████████████████████████████████████████████████████████| 2/2 [00:09<00:00,  4.89s/it]\n"
     ]
    }
   ],
   "source": [
    "genes =  \"VWA2\"#, \"VPS26C\"\n",
    "edges = bulk_edges(genes, 1)"
   ]
  },
  {
   "cell_type": "code",
   "execution_count": null,
   "id": "93e21abc-1c66-4816-a805-0d08a81f7e2d",
   "metadata": {},
   "outputs": [],
   "source": [
    "# Create links to papers, https://doi.org/"
   ]
  },
  {
   "cell_type": "code",
   "execution_count": 3,
   "id": "91f54ac8-a45a-4fad-80f1-efe05d1d85f6",
   "metadata": {},
   "outputs": [
    {
     "name": "stderr",
     "output_type": "stream",
     "text": [
      "Processing nodes:   0%|          | 0/6 [00:00<?, ?it/s]INFO: [2025-02-27 21:26:49] indra_db_rest.query_processor - Retrieving statements that have an agent where NAME=CTNNB1 and have an agent where NAME=VPS26C.\n",
      "INFO: [2025-02-27 21:26:49] indra_db_rest.query_processor - Retrieving statements that have an agent where NAME=NOTUM and have an agent where NAME=VPS26C.\n",
      "INFO: [2025-02-27 21:26:49] indra_db_rest.query_processor - Retrieving statements that have an agent where NAME=VPS26C and have an agent where NAME=VWA2.\n",
      "INFO: [2025-02-27 21:26:49] indra_db_rest.query_processor - Retrieving statements that have an agent where NAME=CTNNB1 and have an agent where NAME=NOTUM.\n",
      "INFO: [2025-02-27 21:26:49] indra_db_rest.query_processor - Retrieving statements that have an agent where NAME=CTNNB1 and have an agent where NAME=VWA2.\n",
      "INFO: [2025-02-27 21:26:49] indra_db_rest.query_processor - Retrieving statements that have an agent where NAME=NOTUM and have an agent where NAME=VWA2.\n",
      "INFO: [2025-02-27 21:26:49] indra_db_rest.request_logs - Running 0th request for statements\n",
      "INFO: [2025-02-27 21:26:49] indra_db_rest.request_logs - Running 0th request for statements\n",
      "INFO: [2025-02-27 21:26:49] indra_db_rest.request_logs - Running 0th request for statements\n",
      "INFO: [2025-02-27 21:26:49] indra_db_rest.request_logs - Running 0th request for statements\n",
      "INFO: [2025-02-27 21:26:49] indra_db_rest.request_logs - Running 0th request for statements\n",
      "INFO: [2025-02-27 21:26:49] indra_db_rest.request_logs - Running 0th request for statements\n",
      "INFO: [2025-02-27 21:26:49] indra_db_rest.request_logs -   LIMIT: None\n",
      "INFO: [2025-02-27 21:26:49] indra_db_rest.request_logs -   LIMIT: None\n",
      "INFO: [2025-02-27 21:26:49] indra_db_rest.request_logs -   LIMIT: None\n",
      "INFO: [2025-02-27 21:26:49] indra_db_rest.request_logs -   LIMIT: None\n",
      "INFO: [2025-02-27 21:26:49] indra_db_rest.request_logs -   LIMIT: None\n",
      "INFO: [2025-02-27 21:26:49] indra_db_rest.request_logs -   LIMIT: None\n",
      "INFO: [2025-02-27 21:26:49] indra_db_rest.request_logs -   OFFSET: 0\n",
      "INFO: [2025-02-27 21:26:49] indra_db_rest.request_logs -   OFFSET: 0\n",
      "INFO: [2025-02-27 21:26:49] indra_db_rest.request_logs -   OFFSET: 0\n",
      "INFO: [2025-02-27 21:26:49] indra_db_rest.request_logs -   OFFSET: 0\n",
      "INFO: [2025-02-27 21:26:49] indra_db_rest.request_logs -   OFFSET: 0\n",
      "INFO: [2025-02-27 21:26:49] indra_db_rest.request_logs -   OFFSET: 0\n"
     ]
    },
    {
     "name": "stdout",
     "output_type": "stream",
     "text": [
      "No relationships found in the statements.\n",
      "⚠️ No edges found for nodes: ('VWA2', 'VPS26C')\n",
      "No relationships found in the statements.\n",
      "⚠️ No edges found for nodes: ('NOTUM', 'VPS26C')\n"
     ]
    },
    {
     "name": "stderr",
     "output_type": "stream",
     "text": [
      "Processing nodes:  17%|█▋        | 1/6 [00:14<01:11, 14.32s/it]"
     ]
    },
    {
     "name": "stdout",
     "output_type": "stream",
     "text": [
      "No relationships found in the statements.\n",
      "⚠️ No edges found for nodes: ('NOTUM', 'VWA2')\n"
     ]
    },
    {
     "name": "stderr",
     "output_type": "stream",
     "text": [
      "Processing nodes: 100%|██████████| 6/6 [00:41<00:00,  6.90s/it]"
     ]
    },
    {
     "name": "stdout",
     "output_type": "stream",
     "text": [
      "No relationships found in the statements.\n",
      "⚠️ No edges found for nodes: ('VWA2', 'CTNNB1')\n",
      "No relationships found in the statements.\n",
      "⚠️ No edges found for nodes: ('CTNNB1', 'VPS26C')\n"
     ]
    },
    {
     "name": "stderr",
     "output_type": "stream",
     "text": [
      "\n"
     ]
    }
   ],
   "source": [
    "genes = \"NOTUM\", \"VWA2\", \"CTNNB1\", \"VPS26C\" # \"NOTUM, VWA2, CTNNB1, VPS26C\" // [\"NOTUM, VWA2, CTNNB1, VPS26C\"]\n",
    "edges = bulk_edges(genes, 2)"
   ]
  },
  {
   "cell_type": "code",
   "execution_count": 4,
   "id": "5b093bbc-9f4e-47b4-a5ac-e1539c826114",
   "metadata": {},
   "outputs": [
    {
     "data": {
      "text/html": [
       "<div>\n",
       "<style scoped>\n",
       "    .dataframe tbody tr th:only-of-type {\n",
       "        vertical-align: middle;\n",
       "    }\n",
       "\n",
       "    .dataframe tbody tr th {\n",
       "        vertical-align: top;\n",
       "    }\n",
       "\n",
       "    .dataframe thead th {\n",
       "        text-align: right;\n",
       "    }\n",
       "</style>\n",
       "<table border=\"1\" class=\"dataframe\">\n",
       "  <thead>\n",
       "    <tr style=\"text-align: right;\">\n",
       "      <th></th>\n",
       "      <th>nodes</th>\n",
       "      <th>type</th>\n",
       "      <th>subj.name</th>\n",
       "      <th>obj.name</th>\n",
       "      <th>belief</th>\n",
       "      <th>text</th>\n",
       "      <th>text_refs.PMID</th>\n",
       "      <th>text_refs.DOI</th>\n",
       "      <th>text_refs.PMCID</th>\n",
       "      <th>text_refs.SOURCE</th>\n",
       "      <th>text_refs.READER</th>\n",
       "    </tr>\n",
       "  </thead>\n",
       "  <tbody>\n",
       "    <tr>\n",
       "      <th>14</th>\n",
       "      <td>(NOTUM, CTNNB1)</td>\n",
       "      <td>Complex</td>\n",
       "      <td>NaN</td>\n",
       "      <td>NaN</td>\n",
       "      <td>0.86</td>\n",
       "      <td>Notum overexpression was associated with intra...</td>\n",
       "      <td>26517809</td>\n",
       "      <td>10.18632/ONCOTARGET.5652</td>\n",
       "      <td>PMC4747403</td>\n",
       "      <td>pmc_oa</td>\n",
       "      <td>SPARSER</td>\n",
       "    </tr>\n",
       "    <tr>\n",
       "      <th>15</th>\n",
       "      <td>(NOTUM, CTNNB1)</td>\n",
       "      <td>Complex</td>\n",
       "      <td>NaN</td>\n",
       "      <td>NaN</td>\n",
       "      <td>0.86</td>\n",
       "      <td>High levels of NOTUM protein were significantl...</td>\n",
       "      <td>18429952</td>\n",
       "      <td>10.1111/J.1349-7006.2008.00814.X</td>\n",
       "      <td>NaN</td>\n",
       "      <td>pubmed</td>\n",
       "      <td>SPARSER</td>\n",
       "    </tr>\n",
       "  </tbody>\n",
       "</table>\n",
       "</div>"
      ],
      "text/plain": [
       "              nodes     type subj.name obj.name  belief  \\\n",
       "14  (NOTUM, CTNNB1)  Complex       NaN      NaN    0.86   \n",
       "15  (NOTUM, CTNNB1)  Complex       NaN      NaN    0.86   \n",
       "\n",
       "                                                 text text_refs.PMID  \\\n",
       "14  Notum overexpression was associated with intra...       26517809   \n",
       "15  High levels of NOTUM protein were significantl...       18429952   \n",
       "\n",
       "                       text_refs.DOI text_refs.PMCID text_refs.SOURCE  \\\n",
       "14          10.18632/ONCOTARGET.5652      PMC4747403           pmc_oa   \n",
       "15  10.1111/J.1349-7006.2008.00814.X             NaN           pubmed   \n",
       "\n",
       "   text_refs.READER  \n",
       "14          SPARSER  \n",
       "15          SPARSER  "
      ]
     },
     "execution_count": 4,
     "metadata": {},
     "output_type": "execute_result"
    }
   ],
   "source": [
    "edges[edges['type']=='Complex']"
   ]
  },
  {
   "cell_type": "code",
   "execution_count": null,
   "id": "6b8ba971-c0ff-4029-a7a7-2472b8c3df13",
   "metadata": {},
   "outputs": [
    {
     "data": {
      "text/html": [
       "<div>\n",
       "<style scoped>\n",
       "    .dataframe tbody tr th:only-of-type {\n",
       "        vertical-align: middle;\n",
       "    }\n",
       "\n",
       "    .dataframe tbody tr th {\n",
       "        vertical-align: top;\n",
       "    }\n",
       "\n",
       "    .dataframe thead th {\n",
       "        text-align: right;\n",
       "    }\n",
       "</style>\n",
       "<table border=\"1\" class=\"dataframe\">\n",
       "  <thead>\n",
       "    <tr style=\"text-align: right;\">\n",
       "      <th></th>\n",
       "      <th>nodes</th>\n",
       "      <th>count</th>\n",
       "    </tr>\n",
       "  </thead>\n",
       "  <tbody>\n",
       "    <tr>\n",
       "      <th>0</th>\n",
       "      <td>(NOTUM, CTNNB1)</td>\n",
       "      <td>19</td>\n",
       "    </tr>\n",
       "  </tbody>\n",
       "</table>\n",
       "</div>"
      ],
      "text/plain": [
       "             nodes  count\n",
       "0  (NOTUM, CTNNB1)     19"
      ]
     },
     "execution_count": 17,
     "metadata": {},
     "output_type": "execute_result"
    }
   ],
   "source": [
    "group_edges(edges, group_type=\"summary\") "
   ]
  },
  {
   "cell_type": "code",
   "execution_count": null,
   "id": "6d6b1939",
   "metadata": {},
   "outputs": [
    {
     "data": {
      "text/html": [
       "<div>\n",
       "<style scoped>\n",
       "    .dataframe tbody tr th:only-of-type {\n",
       "        vertical-align: middle;\n",
       "    }\n",
       "\n",
       "    .dataframe tbody tr th {\n",
       "        vertical-align: top;\n",
       "    }\n",
       "\n",
       "    .dataframe thead th {\n",
       "        text-align: right;\n",
       "    }\n",
       "</style>\n",
       "<table border=\"1\" class=\"dataframe\">\n",
       "  <thead>\n",
       "    <tr style=\"text-align: right;\">\n",
       "      <th></th>\n",
       "      <th>nodes</th>\n",
       "      <th>type</th>\n",
       "      <th>count</th>\n",
       "    </tr>\n",
       "  </thead>\n",
       "  <tbody>\n",
       "    <tr>\n",
       "      <th>4</th>\n",
       "      <td>(NOTUM, CTNNB1)</td>\n",
       "      <td>Inhibition</td>\n",
       "      <td>8</td>\n",
       "    </tr>\n",
       "    <tr>\n",
       "      <th>0</th>\n",
       "      <td>(NOTUM, CTNNB1)</td>\n",
       "      <td>Activation</td>\n",
       "      <td>6</td>\n",
       "    </tr>\n",
       "    <tr>\n",
       "      <th>1</th>\n",
       "      <td>(NOTUM, CTNNB1)</td>\n",
       "      <td>Complex</td>\n",
       "      <td>2</td>\n",
       "    </tr>\n",
       "    <tr>\n",
       "      <th>2</th>\n",
       "      <td>(NOTUM, CTNNB1)</td>\n",
       "      <td>DecreaseAmount</td>\n",
       "      <td>2</td>\n",
       "    </tr>\n",
       "    <tr>\n",
       "      <th>3</th>\n",
       "      <td>(NOTUM, CTNNB1)</td>\n",
       "      <td>IncreaseAmount</td>\n",
       "      <td>1</td>\n",
       "    </tr>\n",
       "  </tbody>\n",
       "</table>\n",
       "</div>"
      ],
      "text/plain": [
       "             nodes            type  count\n",
       "4  (NOTUM, CTNNB1)      Inhibition      8\n",
       "0  (NOTUM, CTNNB1)      Activation      6\n",
       "1  (NOTUM, CTNNB1)         Complex      2\n",
       "2  (NOTUM, CTNNB1)  DecreaseAmount      2\n",
       "3  (NOTUM, CTNNB1)  IncreaseAmount      1"
      ]
     },
     "execution_count": 16,
     "metadata": {},
     "output_type": "execute_result"
    }
   ],
   "source": [
    "group_edges(edges, group_type=\"view\")"
   ]
  }
 ],
 "metadata": {
  "kernelspec": {
   "display_name": "discovera",
   "language": "python",
   "name": "python3"
  },
  "language_info": {
   "codemirror_mode": {
    "name": "ipython",
    "version": 3
   },
   "file_extension": ".py",
   "mimetype": "text/x-python",
   "name": "python",
   "nbconvert_exporter": "python",
   "pygments_lexer": "ipython3",
   "version": "3.13.0"
  }
 },
 "nbformat": 4,
 "nbformat_minor": 5
}
